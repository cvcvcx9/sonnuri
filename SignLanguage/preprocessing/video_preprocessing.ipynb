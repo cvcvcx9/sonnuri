{
 "cells": [
  {
   "cell_type": "markdown",
   "metadata": {},
   "source": [
    "1.먼저 F 빼고 다 지웁시다."
   ]
  },
  {
   "cell_type": "code",
   "execution_count": 1,
   "metadata": {},
   "outputs": [],
   "source": [
    "import json\n",
    "import os\n",
    "import math\n",
    "import pandas as pd\n",
    "import cv2"
   ]
  },
  {
   "cell_type": "markdown",
   "metadata": {},
   "source": [
    "- data 디렉토리는 설정해주세요. 저같은 경우는 ../data/에 있습니다."
   ]
  },
  {
   "cell_type": "code",
   "execution_count": 2,
   "metadata": {},
   "outputs": [],
   "source": [
    "file_dir = \"../data/\" # setting"
   ]
  },
  {
   "cell_type": "markdown",
   "metadata": {},
   "source": [
    "- dir 세팅"
   ]
  },
  {
   "cell_type": "code",
   "execution_count": 3,
   "metadata": {},
   "outputs": [
    {
     "data": {
      "text/plain": [
       "['CROWD_REAL005', 'img', 'CROWD_REAL006', 'CROWD_REAL004']"
      ]
     },
     "execution_count": 3,
     "metadata": {},
     "output_type": "execute_result"
    }
   ],
   "source": [
    "step1 = os.listdir(file_dir)\n",
    "step1"
   ]
  },
  {
   "cell_type": "markdown",
   "metadata": {},
   "source": [
    "- 차례차례 들어가볼게요"
   ]
  },
  {
   "cell_type": "code",
   "execution_count": null,
   "metadata": {},
   "outputs": [],
   "source": [
    "for dir1 in step1:\n",
    "    step1_dir = file_dir + dir1\n",
    "    step2 = os.listdir(step1_dir)\n",
    "#     print(step1_dir)\n",
    "    \n",
    "    for dir2 in step2:\n",
    "        step2_dir = step1_dir + '/' + dir2\n",
    "        step3 = os.listdir(step2_dir)\n",
    "        \n",
    "        for dir3 in step3:\n",
    "            step3_dir = step2_dir + '/' + dir3\n",
    "            file_list = os.listdir(step3_dir)\n",
    "            \n",
    "            ## 여기 file list 파싱해서 F 다 지웁시다.\n",
    "            for file in file_list:\n",
    "                file_name = step3_dir + '/' + file\n",
    "                if file.split('.')[0].split('_')[4] != 'F': # 삭제\n",
    "                    os.remove(file_name)\n",
    "#                     print(file_name) # 지워진 파일 출력"
   ]
  },
  {
   "cell_type": "markdown",
   "metadata": {},
   "source": [
    "2. 영상 잘라서 이미지 만들고 키포인트Json 삭제"
   ]
  },
  {
   "cell_type": "markdown",
   "metadata": {},
   "source": [
    "- 데이터가 비어있는 영상도 체크합시다. \n",
    "- 저희는 [영상제목, 영상 시작시간, 영상 종료시간] 정보로 이미지 만들게요."
   ]
  },
  {
   "cell_type": "code",
   "execution_count": 76,
   "metadata": {},
   "outputs": [],
   "source": [
    "video_start_end_info = []\n",
    "json_start_end_info = []\n",
    "error_video = []"
   ]
  },
  {
   "cell_type": "code",
   "execution_count": 77,
   "metadata": {},
   "outputs": [
    {
     "name": "stdout",
     "output_type": "stream",
     "text": [
      "파일 갯수 999\n",
      "파일 갯수 1000\n",
      "파일 갯수 1000\n",
      "파일 갯수 1000\n",
      "파일 갯수 1000\n",
      "파일 갯수 999\n",
      "파일 갯수 1000\n",
      "파일 갯수 1000\n",
      "파일 갯수 1000\n"
     ]
    }
   ],
   "source": [
    "for dir1 in step1:\n",
    "    step1_dir = file_dir + dir1\n",
    "    step2 = os.listdir(step1_dir)\n",
    "#     print(step1_dir)\n",
    "    \n",
    "    for dir2 in step2:\n",
    "        step2_dir = step1_dir + '/' + dir2\n",
    "        step3 = os.listdir(step2_dir)\n",
    "        \n",
    "        # 형태소로 들어가기 및 영상 저장\n",
    "        video_dir = step2_dir + '/' + step3[0]\n",
    "        keypoints_dir = step2_dir + '/' + step3[1]\n",
    "        step3_dir = step2_dir + '/' + step3[2]\n",
    "        file_list = os.listdir(step3_dir)\n",
    "        \n",
    "        print(\"파일 갯수\", len(file_list))\n",
    "        \n",
    "        for file in file_list:\n",
    "            tmp = []\n",
    "            tmp2 = []\n",
    "            \n",
    "            file_name = step3_dir + '/' + file\n",
    "#             print(file_name)\n",
    "            \n",
    "            with open(file_name) as json_file:\n",
    "                try:\n",
    "                    json_data = json.load(json_file)\n",
    "                    clip_name = json_data[\"metaData\"]['name']\n",
    "    #                 print(clip_name)\n",
    "    \n",
    "                    if len(json_data[\"data\"]) != 0:\n",
    "                        clip_start = json_data[\"data\"][0]['start']\n",
    "                        tmp.append(video_dir + '/' + clip_name)\n",
    "                        tmp2.append(keypoints_dir + '/' + clip_name)\n",
    "                    else:\n",
    "                        print(\"에러난 파일명: \", clip_name)\n",
    "                        error_video.append(file_name)\n",
    "                        continue\n",
    "                    \n",
    "                    clip_start = math.trunc(clip_start * 10) / 10\n",
    "                    tmp.append(clip_start)\n",
    "                    tmp2.append(clip_start)\n",
    "                #     print(clip_start)\n",
    "\n",
    "                    clip_end = json_data[\"data\"][0]['end']\n",
    "                    clip_end = math.ceil(clip_end * 10) / 10\n",
    "                    tmp.append(clip_end)\n",
    "                    tmp2.append(clip_end)\n",
    "                #     print(clip_end)\n",
    "                except:\n",
    "                    print(\"에러난 파일명: \", clip_name) # 아마 data가 없는파일임.\n",
    "            video_start_end_info.append(tmp)\n",
    "            json_start_end_info.append(tmp2)"
   ]
  },
  {
   "cell_type": "markdown",
   "metadata": {},
   "source": [
    "- 갯수 체크하시구"
   ]
  },
  {
   "cell_type": "code",
   "execution_count": 78,
   "metadata": {},
   "outputs": [
    {
     "name": "stdout",
     "output_type": "stream",
     "text": [
      "정상적으로 담긴거  8998\n",
      "에러 영상  0\n"
     ]
    }
   ],
   "source": [
    "print(\"정상적으로 담긴거 \", len(video_start_end_info))\n",
    "print(\"에러 영상 \", len(error_video))"
   ]
  },
  {
   "cell_type": "markdown",
   "metadata": {},
   "source": [
    "- 에러난 영상 지우기, 전 이미 지워버렸지만 확인해주세요"
   ]
  },
  {
   "cell_type": "code",
   "execution_count": 79,
   "metadata": {},
   "outputs": [],
   "source": [
    "for err in error_video:\n",
    "    os.remove(err)"
   ]
  },
  {
   "cell_type": "markdown",
   "metadata": {},
   "source": [
    "- 잘 담겼는지 확인해주세요~"
   ]
  },
  {
   "cell_type": "code",
   "execution_count": 80,
   "metadata": {},
   "outputs": [
    {
     "data": {
      "text/html": [
       "<div>\n",
       "<style scoped>\n",
       "    .dataframe tbody tr th:only-of-type {\n",
       "        vertical-align: middle;\n",
       "    }\n",
       "\n",
       "    .dataframe tbody tr th {\n",
       "        vertical-align: top;\n",
       "    }\n",
       "\n",
       "    .dataframe thead th {\n",
       "        text-align: right;\n",
       "    }\n",
       "</style>\n",
       "<table border=\"1\" class=\"dataframe\">\n",
       "  <thead>\n",
       "    <tr style=\"text-align: right;\">\n",
       "      <th></th>\n",
       "      <th>0</th>\n",
       "      <th>1</th>\n",
       "      <th>2</th>\n",
       "    </tr>\n",
       "  </thead>\n",
       "  <tbody>\n",
       "    <tr>\n",
       "      <th>0</th>\n",
       "      <td>../data/CROWD_REAL005/CROWD_REAL015/영상/NIA_SL_...</td>\n",
       "      <td>1.5</td>\n",
       "      <td>6.4</td>\n",
       "    </tr>\n",
       "    <tr>\n",
       "      <th>1</th>\n",
       "      <td>../data/CROWD_REAL005/CROWD_REAL015/영상/NIA_SL_...</td>\n",
       "      <td>1.0</td>\n",
       "      <td>7.8</td>\n",
       "    </tr>\n",
       "    <tr>\n",
       "      <th>2</th>\n",
       "      <td>../data/CROWD_REAL005/CROWD_REAL015/영상/NIA_SL_...</td>\n",
       "      <td>1.5</td>\n",
       "      <td>5.4</td>\n",
       "    </tr>\n",
       "    <tr>\n",
       "      <th>3</th>\n",
       "      <td>../data/CROWD_REAL005/CROWD_REAL015/영상/NIA_SL_...</td>\n",
       "      <td>1.9</td>\n",
       "      <td>6.7</td>\n",
       "    </tr>\n",
       "    <tr>\n",
       "      <th>4</th>\n",
       "      <td>../data/CROWD_REAL005/CROWD_REAL015/영상/NIA_SL_...</td>\n",
       "      <td>1.1</td>\n",
       "      <td>5.4</td>\n",
       "    </tr>\n",
       "  </tbody>\n",
       "</table>\n",
       "</div>"
      ],
      "text/plain": [
       "                                                   0    1    2\n",
       "0  ../data/CROWD_REAL005/CROWD_REAL015/영상/NIA_SL_...  1.5  6.4\n",
       "1  ../data/CROWD_REAL005/CROWD_REAL015/영상/NIA_SL_...  1.0  7.8\n",
       "2  ../data/CROWD_REAL005/CROWD_REAL015/영상/NIA_SL_...  1.5  5.4\n",
       "3  ../data/CROWD_REAL005/CROWD_REAL015/영상/NIA_SL_...  1.9  6.7\n",
       "4  ../data/CROWD_REAL005/CROWD_REAL015/영상/NIA_SL_...  1.1  5.4"
      ]
     },
     "execution_count": 80,
     "metadata": {},
     "output_type": "execute_result"
    }
   ],
   "source": [
    "pd_test = pd.DataFrame(video_start_end_info)\n",
    "\n",
    "pd_test.head()"
   ]
  },
  {
   "cell_type": "markdown",
   "metadata": {},
   "source": [
    "- 파일이 뭐같아서 MP4랑 mp4 차이가 있으면 인식을 못하더라구요. 그래서 올 소문자로 확장자를 바꿔야합니다 ㅠ"
   ]
  },
  {
   "cell_type": "code",
   "execution_count": 81,
   "metadata": {},
   "outputs": [],
   "source": [
    "for video_info in video_start_end_info:\n",
    "    if video_info[0].split('.')[-1] != \"mp4\":\n",
    "        tmp = video_info[0].split('.')\n",
    "        tmp[-1] = \"mp4\"\n",
    "        edit_video_dir = '.'.join(tmp)\n",
    "        video_info[0] = edit_video_dir\n",
    "#         print(edit_video_dir)\n",
    "\n",
    "\n",
    "for video_info in json_start_end_info:\n",
    "    if video_info[0].split('.')[-1] != \"mp4\":\n",
    "        tmp = video_info[0].split('.')\n",
    "        tmp[-1] = \"mp4\"\n",
    "        edit_video_dir = '.'.join(tmp)\n",
    "        video_info[0] = edit_video_dir\n",
    "#         print(edit_video_dir)"
   ]
  },
  {
   "cell_type": "markdown",
   "metadata": {},
   "source": [
    "- 이미지를 저장할 폴더를 만들고 잘라봅시다."
   ]
  },
  {
   "cell_type": "code",
   "execution_count": 85,
   "metadata": {},
   "outputs": [],
   "source": [
    "img_dir = \"../data/img\"\n",
    "os.makedirs(img_dir)"
   ]
  },
  {
   "cell_type": "markdown",
   "metadata": {},
   "source": [
    "- 시작합니다~ 추가로 한번 진행해보다가 중단하시고 프레임번호가 위에 영상 시작, 끝시간과 맞는지 확인해보는거도 조아요~"
   ]
  },
  {
   "cell_type": "code",
   "execution_count": null,
   "metadata": {},
   "outputs": [],
   "source": [
    "for video_info in video_start_end_info:\n",
    "    # video_info[0] : 영상 경로, video_info[1] : 영상 시작, video_info[2] : 영상 끝\n",
    "    \n",
    "    editing_video = video_info[0].split('/')[-1]\n",
    "    output_dir = img_dir + '/' + editing_video\n",
    "    os.makedirs(output_dir)\n",
    "    \n",
    "    vidcap = cv2.VideoCapture(video_info[0])\n",
    "    count = -1\n",
    "    while vidcap.isOpened():\n",
    "        count+=1\n",
    "        success, image = vidcap.read()\n",
    "        if success: \n",
    "            if video_info[1] * 30 <= count and count <= video_info[2] * 30:\n",
    "                cv2.imwrite(os.path.join(output_dir, editing_video+ ' %d.jpg') %(count), image)\n",
    "        else:\n",
    "            cv2.destroyAllWindows()\n",
    "            vidcap.release()"
   ]
  },
  {
   "cell_type": "markdown",
   "metadata": {},
   "source": [
    "- 이제 Json 파일도 지워봅시다."
   ]
  },
  {
   "cell_type": "code",
   "execution_count": 41,
   "metadata": {},
   "outputs": [
    {
     "data": {
      "text/plain": [
       "8998"
      ]
     },
     "execution_count": 41,
     "metadata": {},
     "output_type": "execute_result"
    }
   ],
   "source": [
    "len(json_start_end_info)"
   ]
  },
  {
   "cell_type": "code",
   "execution_count": 26,
   "metadata": {},
   "outputs": [
    {
     "data": {
      "text/html": [
       "<div>\n",
       "<style scoped>\n",
       "    .dataframe tbody tr th:only-of-type {\n",
       "        vertical-align: middle;\n",
       "    }\n",
       "\n",
       "    .dataframe tbody tr th {\n",
       "        vertical-align: top;\n",
       "    }\n",
       "\n",
       "    .dataframe thead th {\n",
       "        text-align: right;\n",
       "    }\n",
       "</style>\n",
       "<table border=\"1\" class=\"dataframe\">\n",
       "  <thead>\n",
       "    <tr style=\"text-align: right;\">\n",
       "      <th></th>\n",
       "      <th>0</th>\n",
       "      <th>1</th>\n",
       "      <th>2</th>\n",
       "    </tr>\n",
       "  </thead>\n",
       "  <tbody>\n",
       "    <tr>\n",
       "      <th>0</th>\n",
       "      <td>../data/CROWD_REAL005/CROWD_REAL015/키포인트Json/N...</td>\n",
       "      <td>1.5</td>\n",
       "      <td>6.4</td>\n",
       "    </tr>\n",
       "    <tr>\n",
       "      <th>1</th>\n",
       "      <td>../data/CROWD_REAL005/CROWD_REAL015/키포인트Json/N...</td>\n",
       "      <td>1.0</td>\n",
       "      <td>7.8</td>\n",
       "    </tr>\n",
       "    <tr>\n",
       "      <th>2</th>\n",
       "      <td>../data/CROWD_REAL005/CROWD_REAL015/키포인트Json/N...</td>\n",
       "      <td>1.5</td>\n",
       "      <td>5.4</td>\n",
       "    </tr>\n",
       "    <tr>\n",
       "      <th>3</th>\n",
       "      <td>../data/CROWD_REAL005/CROWD_REAL015/키포인트Json/N...</td>\n",
       "      <td>1.9</td>\n",
       "      <td>6.7</td>\n",
       "    </tr>\n",
       "    <tr>\n",
       "      <th>4</th>\n",
       "      <td>../data/CROWD_REAL005/CROWD_REAL015/키포인트Json/N...</td>\n",
       "      <td>1.1</td>\n",
       "      <td>5.4</td>\n",
       "    </tr>\n",
       "  </tbody>\n",
       "</table>\n",
       "</div>"
      ],
      "text/plain": [
       "                                                   0    1    2\n",
       "0  ../data/CROWD_REAL005/CROWD_REAL015/키포인트Json/N...  1.5  6.4\n",
       "1  ../data/CROWD_REAL005/CROWD_REAL015/키포인트Json/N...  1.0  7.8\n",
       "2  ../data/CROWD_REAL005/CROWD_REAL015/키포인트Json/N...  1.5  5.4\n",
       "3  ../data/CROWD_REAL005/CROWD_REAL015/키포인트Json/N...  1.9  6.7\n",
       "4  ../data/CROWD_REAL005/CROWD_REAL015/키포인트Json/N...  1.1  5.4"
      ]
     },
     "execution_count": 26,
     "metadata": {},
     "output_type": "execute_result"
    }
   ],
   "source": [
    "pd_test2 = pd.DataFrame(json_start_end_info)\n",
    "pd_test2.head()"
   ]
  },
  {
   "cell_type": "markdown",
   "metadata": {},
   "source": [
    "- json file 삭제 시작~"
   ]
  },
  {
   "cell_type": "code",
   "execution_count": 71,
   "metadata": {},
   "outputs": [],
   "source": [
    "for json_info in json_start_end_info:\n",
    "    json_dir = json_info[0]\n",
    "    json_start = json_info[1]\n",
    "    json_end = json_info[2]\n",
    "    for i, json_file_name in enumerate(sorted(os.listdir(json_dir))):\n",
    "        if i < json_start * 30 or json_end * 30 < i: # 종료시간보다 전이거나 후면 삭제!\n",
    "            os.remove(json_dir + '/' + json_file_name)"
   ]
  },
  {
   "cell_type": "markdown",
   "metadata": {},
   "source": [
    "- keypoints preprocess"
   ]
  },
  {
   "cell_type": "code",
   "execution_count": 5,
   "metadata": {},
   "outputs": [],
   "source": [
    "import json\n",
    "import os\n",
    "import glob\n",
    "import numpy as np"
   ]
  },
  {
   "cell_type": "code",
   "execution_count": 6,
   "metadata": {},
   "outputs": [
    {
     "data": {
      "text/plain": [
       "1000"
      ]
     },
     "execution_count": 6,
     "metadata": {},
     "output_type": "execute_result"
    }
   ],
   "source": [
    "# 경로 설정\n",
    "kp_path = '../data/CROWD_REAL004/CROWD_REAL012/키포인트Json' # 기존 키포인트 Json\n",
    "new_kp_dir = '../data/CROWD_REAL004/CROWD_REAL012/키포인트txt' # 새로 저장할 키포인트 txt\n",
    "# os.listdir('../data/CROWD_REAL004/CROWD_REAL010/키포인트Json')\n",
    "len(os.listdir(kp_path))"
   ]
  },
  {
   "cell_type": "code",
   "execution_count": 7,
   "metadata": {},
   "outputs": [
    {
     "data": {
      "text/plain": [
       "['../data/CROWD_REAL004/CROWD_REAL012/키포인트Json/NIA_SL_FS0539_CROWD06_F.mp4/NIA_SL_FS0539_CROWD06_F__000000000085_keypoints.json',\n",
       " '../data/CROWD_REAL004/CROWD_REAL012/키포인트Json/NIA_SL_FS0539_CROWD06_F.mp4/NIA_SL_FS0539_CROWD06_F__000000000169_keypoints.json',\n",
       " '../data/CROWD_REAL004/CROWD_REAL012/키포인트Json/NIA_SL_FS0539_CROWD06_F.mp4/NIA_SL_FS0539_CROWD06_F__000000000052_keypoints.json',\n",
       " '../data/CROWD_REAL004/CROWD_REAL012/키포인트Json/NIA_SL_FS0539_CROWD06_F.mp4/NIA_SL_FS0539_CROWD06_F__000000000164_keypoints.json',\n",
       " '../data/CROWD_REAL004/CROWD_REAL012/키포인트Json/NIA_SL_FS0539_CROWD06_F.mp4/NIA_SL_FS0539_CROWD06_F__000000000107_keypoints.json']"
      ]
     },
     "execution_count": 7,
     "metadata": {},
     "output_type": "execute_result"
    }
   ],
   "source": [
    "json_files = glob.glob(os.path.join(kp_path,'**','*.json'), recursive=True)\n",
    "json_files[:5]"
   ]
  },
  {
   "cell_type": "code",
   "execution_count": 8,
   "metadata": {},
   "outputs": [],
   "source": [
    "keypointss = []\n",
    "ZERO = False\n",
    "for i, json_file in enumerate(json_files):\n",
    "    with open(json_file, \"r\") as keypoints_json:\n",
    "        data = json.load(keypoints_json)\n",
    " \n",
    "    # pose에서 생략 가능한 하반신 30-35, 39-44, 57-74\n",
    "    pose = data['people'][0]['pose_keypoints_2d']\n",
    "    pose = pose[:30]+pose[36:39]+pose[45:57] # pose 75개 -> 45개\n",
    "    face = data['people'][0]['face_keypoints_2d']\n",
    "    hand_left = data['people'][0]['hand_left_keypoints_2d']\n",
    "    hand_right = data['people'][0]['hand_right_keypoints_2d']\n",
    "    \n",
    "    # 전체 keypoints 합치고 confidence 값 제외\n",
    "    entire_keypoints = np.array(pose+face+hand_left+hand_right, dtype=np.float32).reshape(-1,3)[:,:2].flatten() # 254\n",
    "    keypointss.append(entire_keypoints) # 일단 keypointss 리스트에 다 저장 - 0값 채우기 위해서\n",
    "    \n",
    "    if i>1 and ZERO: # 앞에 0인 값이 있으면 i-2, i의 평균값으로 i-1의 0 채워주기\n",
    "        zero_tf = keypointss[i-1]==0\n",
    "        keypointss[i-1][zero_tf] = (keypointss[i-2][zero_tf]+keypointss[i][zero_tf])/2 # 앞,뒤 평균값으로 채워주기\n",
    "        ZERO = False\n",
    "        \n",
    "    if 0 in entire_keypoints: # 0이 있으면 ZERO!\n",
    "        ZERO = True"
   ]
  },
  {
   "cell_type": "code",
   "execution_count": 9,
   "metadata": {},
   "outputs": [],
   "source": [
    "def normalization(array):\n",
    "    scale_array = array.copy()\n",
    "    scale_array[::2] /= 2048 # x좌표\n",
    "    scale_array[1::2] /= 1152 # y좌표\n",
    "    return scale_array"
   ]
  },
  {
   "cell_type": "code",
   "execution_count": 11,
   "metadata": {},
   "outputs": [
    {
     "name": "stdout",
     "output_type": "stream",
     "text": [
      "../data/CROWD_REAL004/CROWD_REAL012/키포인트Json/NIA_SL_FS0539_CROWD06_F.mp4/NIA_SL_FS0539_CROWD06_F__000000000085_keypoints.json [ 524.091  608.146  550.419  859.316  330.536  848.997    0.       0.\n",
      "    0.       0.     765.282  864.769  828.193 1184.11   896.121 1482.76\n",
      "  561.107 1592.83   409.166 1608.48   707.573 1587.56   477.251  561.044\n",
      "  566.445  560.912  414.337  597.471  649.911  587.087  419.956  563.626\n",
      "  424.465  594.057  427.846  622.234  434.608  649.283  443.625  676.333\n",
      "  454.896  697.747  474.056  715.78   499.978  724.797  530.409  729.305\n",
      "  559.713  723.67   582.254  712.399  605.922  695.493  623.956  670.698\n",
      "  632.972  643.648  637.48   615.471  640.862  587.295  641.989  559.118\n",
      "  441.371  535.45   452.641  525.306  469.547  524.179  483.072  527.56\n",
      "  498.851  535.45   537.171  528.687  552.95   516.289  572.11   512.908\n",
      "  595.779  521.925  607.049  535.45   520.265  560.245  519.138  579.405\n",
      "  519.138  597.438  519.138  615.471  501.105  633.504  512.376  636.885\n",
      "  522.52   640.267  532.663  635.758  542.807  633.504  459.404  565.88\n",
      "  469.547  560.245  481.945  560.245  496.597  568.134  480.818  569.261\n",
      "  470.674  570.389  551.823  564.753  561.967  557.991  578.873  555.737\n",
      "  589.016  561.372  578.873  565.88   563.094  567.007  488.708  676.333\n",
      "  499.978  665.062  514.63   659.427  524.774  660.554  533.79   658.3\n",
      "  549.569  661.681  563.094  669.57   551.823  678.587  536.044  684.222\n",
      "  525.901  685.349  515.757  685.349  501.105  681.968  496.597  675.206\n",
      "  514.63   669.57   524.774  670.698  534.917  669.57   557.459  669.57\n",
      "  534.917  669.57   524.774  670.698  514.63   669.57   477.437  562.499\n",
      "  570.983  560.245  893.569 1476.45   857.364 1516.4    824.905 1562.59\n",
      "  813.669 1605.04   834.892 1620.02   883.581 1612.53   854.867 1653.73\n",
      "  841.134 1625.02   838.638 1596.3    912.295 1612.53   883.581 1649.98\n",
      "  862.358 1625.02   864.855 1597.55   928.525 1603.79   903.556 1632.51\n",
      "  884.83  1617.53   882.333 1593.8    943.506 1588.81   922.282 1613.78\n",
      "  902.308 1605.04   894.817 1592.56     0.       0.       0.       0.\n",
      "    0.       0.       0.       0.       0.       0.       0.       0.\n",
      "    0.       0.       0.       0.       0.       0.       0.       0.\n",
      "    0.       0.       0.       0.       0.       0.       0.       0.\n",
      "    0.       0.       0.       0.       0.       0.       0.       0.\n",
      "    0.       0.       0.       0.       0.       0.   ]\n"
     ]
    }
   ],
   "source": [
    "for json_file, keypoints in zip(json_files, keypointss):\n",
    "    if 0 in keypoints:\n",
    "        print(json_file, keypoints)"
   ]
  },
  {
   "cell_type": "code",
   "execution_count": 46,
   "metadata": {},
   "outputs": [],
   "source": [
    "os.makedirs(new_kp_dir)"
   ]
  },
  {
   "cell_type": "code",
   "execution_count": 47,
   "metadata": {},
   "outputs": [],
   "source": [
    "def check_one_hot(file_name):\n",
    "    txt = file_name.split('_')[3]\n",
    "    tmp = []\n",
    "    for c in txt:\n",
    "        if c.isdigit():\n",
    "            tmp.append(c)\n",
    "    return int(''.join(tmp))"
   ]
  },
  {
   "cell_type": "code",
   "execution_count": 48,
   "metadata": {},
   "outputs": [],
   "source": [
    "os.makedirs(new_kp_dir, exist_ok=True) # 폴더 만들고\n",
    "new_kp_dir = new_kp_dir + '/'\n",
    "for json_file, keypoints in zip(json_files, keypointss):\n",
    "    txt_file_name = os.path.basename(os.path.dirname(json_file))\n",
    "    f = open(new_kp_dir+txt_file_name[:-4]+'.txt', 'a')\n",
    "    # 저장\n",
    "    data = \"%s, \" %os.path.basename(json_file)[:-5] + ', '.join(list(map(str,normalization(keypoints)))) + ',' # keypoints 값에 normalization 적용해서\n",
    "    one_hot = [0 for i in range(22)]\n",
    "    person = check_one_hot(txt_file_name)\n",
    "    one_hot[person-1] = 1\n",
    "    data += str(one_hot) + '\\n'\n",
    "\n",
    "    f.write(data)\n",
    "    f.close()"
   ]
  }
 ],
 "metadata": {
  "kernelspec": {
   "display_name": "Python 3",
   "language": "python",
   "name": "python3"
  },
  "language_info": {
   "codemirror_mode": {
    "name": "ipython",
    "version": 3
   },
   "file_extension": ".py",
   "mimetype": "text/x-python",
   "name": "python",
   "nbconvert_exporter": "python",
   "pygments_lexer": "ipython3",
   "version": "3.7.9"
  }
 },
 "nbformat": 4,
 "nbformat_minor": 4
}
