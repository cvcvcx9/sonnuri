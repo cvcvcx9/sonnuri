{
 "cells": [
  {
   "cell_type": "code",
   "execution_count": 12,
   "metadata": {},
   "outputs": [],
   "source": [
    "import json\n",
    "import os\n",
    "from collections import Counter\n",
    "\n",
    "# with를 이용해 파일을 연다.\n",
    "# 경로만 따로 지정해주고? 이후에는 이 과정 전부 자동화 할거임.\n",
    "\n",
    "file_dir = \"../data/CROWD_REAL004/CROWD_REAL010/형태소Json/\" \n",
    "file_name = file_dir + \"NIA_SL_FS0572_CROWD10_F_morpheme.json\""
   ]
  },
  {
   "cell_type": "code",
   "execution_count": 13,
   "metadata": {},
   "outputs": [
    {
     "data": {
      "text/plain": [
       "1000"
      ]
     },
     "execution_count": 13,
     "metadata": {},
     "output_type": "execute_result"
    }
   ],
   "source": [
    "file_list = os.listdir(file_dir)\n",
    "len(file_list)"
   ]
  },
  {
   "cell_type": "code",
   "execution_count": 14,
   "metadata": {},
   "outputs": [],
   "source": [
    "words = []\n",
    "for file in file_list:\n",
    "    file_name = file_dir + file\n",
    "    with open(file_name) as json_file:\n",
    "        try:\n",
    "            json_data = json.load(json_file)\n",
    "            json_string = json_data[\"data\"]\n",
    "            word = json_string[0]['attributes'][0]['name']\n",
    "            words.append(word)\n",
    "        except:\n",
    "            print(file_name)\n",
    "#             os.remove('test.txt')"
   ]
  },
  {
   "cell_type": "code",
   "execution_count": 15,
   "metadata": {},
   "outputs": [
    {
     "data": {
      "text/plain": [
       "Counter({'연무장길': 26,\n",
       "         '연대동문길': 24,\n",
       "         '오금로': 15,\n",
       "         '오류로': 25,\n",
       "         '와룡공원길': 27,\n",
       "         '옥인길': 27,\n",
       "         '영신로': 15,\n",
       "         '오현로': 16,\n",
       "         '역말로': 25,\n",
       "         '오목로': 26,\n",
       "         '여의서로': 15,\n",
       "         '연곡안길': 4,\n",
       "         '우면산로': 16,\n",
       "         '우이천로': 17,\n",
       "         '가락로': 20,\n",
       "         '올림픽로': 17,\n",
       "         '우정국로': 16,\n",
       "         '영천시장길': 16,\n",
       "         '영중로': 23,\n",
       "         '용왕정길': 28,\n",
       "         '우마길': 17,\n",
       "         '워커힐로': 17,\n",
       "         '우사단로': 27,\n",
       "         '우장산로': 20,\n",
       "         '역삼로': 15,\n",
       "         '연서로': 15,\n",
       "         '와우산로': 18,\n",
       "         '외대역동로': 26,\n",
       "         '원신길': 4,\n",
       "         '연남로': 25,\n",
       "         '연세로': 25,\n",
       "         '용답길': 17,\n",
       "         '연희로': 25,\n",
       "         '우현로': 17,\n",
       "         '용답중앙길': 18,\n",
       "         '왕십리로': 17,\n",
       "         '오정로': 16,\n",
       "         '여의동로': 23,\n",
       "         '왕산로': 17,\n",
       "         '왕십리광장로': 27,\n",
       "         '용마공원로': 26,\n",
       "         '염곡말길': 18,\n",
       "         '연희맛로': 15,\n",
       "         '영등포로': 5,\n",
       "         '연동로': 15,\n",
       "         '영화사로': 25,\n",
       "         '충신길': 5,\n",
       "         '충정로': 14,\n",
       "         '칠패로': 11,\n",
       "         '용마산로': 17,\n",
       "         '영동대로': 14,\n",
       "         '오패산로': 26,\n",
       "         '오리로': 16,\n",
       "         '여의대방로': 7,\n",
       "         '염곡안길': 1,\n",
       "         '여의나루로': 1})"
      ]
     },
     "execution_count": 15,
     "metadata": {},
     "output_type": "execute_result"
    }
   ],
   "source": [
    "Counter(words)"
   ]
  },
  {
   "cell_type": "code",
   "execution_count": null,
   "metadata": {},
   "outputs": [],
   "source": []
  }
 ],
 "metadata": {
  "kernelspec": {
   "display_name": "Python 3",
   "language": "python",
   "name": "python3"
  },
  "language_info": {
   "codemirror_mode": {
    "name": "ipython",
    "version": 3
   },
   "file_extension": ".py",
   "mimetype": "text/x-python",
   "name": "python",
   "nbconvert_exporter": "python",
   "pygments_lexer": "ipython3",
   "version": "3.7.6"
  }
 },
 "nbformat": 4,
 "nbformat_minor": 4
}
