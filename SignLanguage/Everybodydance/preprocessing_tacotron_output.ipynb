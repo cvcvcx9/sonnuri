{
 "cells": [
  {
   "cell_type": "code",
   "execution_count": 8,
   "metadata": {},
   "outputs": [],
   "source": [
    "import json\n",
    "from collections import OrderedDict\n",
    "import numpy as np\n",
    "import cv2\n",
    "import os"
   ]
  },
  {
   "cell_type": "code",
   "execution_count": 10,
   "metadata": {},
   "outputs": [],
   "source": [
    "number = 'SEN0282'\n",
    "who = 'REAL01'\n",
    "\n",
    "file_name = f'{number}_{who}_지하철_가방_두다_잊다_3000.json'"
   ]
  },
  {
   "cell_type": "code",
   "execution_count": null,
   "metadata": {},
   "outputs": [],
   "source": []
  },
  {
   "cell_type": "code",
   "execution_count": 82,
   "metadata": {},
   "outputs": [
    {
     "data": {
      "text/plain": [
       "['SEN0241_REAL10_서울_기차_가다_목적_지하철_바꾸다_몇호_원본.json',\n",
       " '.DS_Store',\n",
       " 'SEN0293_REAL10_지하철_환풍구_핸드폰_빠지다_원본.json',\n",
       " 'SEN0240_REAL10_강남_가다_목적_지하철_바꾸다_몇호_원본.json',\n",
       " 'SEN0634_REAL10_명동_내리다_원본.json',\n",
       " 'WORD1082_REAL02_생활교육자_원본.json',\n",
       " 'SEN0296_REAL01_지하철_문_틈_이어폰_빠지다_원본.json',\n",
       " 'SEN0281_REAL10_길_지도_보다_찾다_할수있다_원본.json',\n",
       " 'SEN0020_REAL10_저_원본.json',\n",
       " 'SEN0221_REAL10_십자로_전_버스_곳_가다_내리다_원본.json',\n",
       " 'WORD1036_REAL02_행동불량_원본.json',\n",
       " 'SEN0287_REAL01_어지럽다_쓰러지다_원본.json']"
      ]
     },
     "execution_count": 82,
     "metadata": {},
     "output_type": "execute_result"
    }
   ],
   "source": [
    "os.listdir('./keypoint/real/')"
   ]
  },
  {
   "cell_type": "code",
   "execution_count": 81,
   "metadata": {},
   "outputs": [],
   "source": [
    "file_name = 'SEN0020_REAL10_저_원본.json'\n",
    "with open('./keypoint/real/' + file_name) as json_file:\n",
    "    tacotron_txt = json.load(json_file)"
   ]
  },
  {
   "cell_type": "code",
   "execution_count": 5,
   "metadata": {},
   "outputs": [
    {
     "data": {
      "text/plain": [
       "190"
      ]
     },
     "execution_count": 5,
     "metadata": {},
     "output_type": "execute_result"
    }
   ],
   "source": [
    "len(tacotron_txt)"
   ]
  },
  {
   "cell_type": "code",
   "execution_count": 6,
   "metadata": {},
   "outputs": [
    {
     "data": {
      "text/plain": [
       "255"
      ]
     },
     "execution_count": 6,
     "metadata": {},
     "output_type": "execute_result"
    }
   ],
   "source": [
    "len(tacotron_txt[0])"
   ]
  },
  {
   "cell_type": "code",
   "execution_count": 94,
   "metadata": {},
   "outputs": [],
   "source": [
    "for real in os.listdir('./request2/'):\n",
    "    if 'Store' in real:\n",
    "        continue\n",
    "#     number = real.split('_')[0]\n",
    "#     who = real.split('_')[1]\n",
    "    \n",
    "    with open('./request2/' + real) as json_file:\n",
    "        tacotron_txt = json.load(json_file)\n",
    "        \n",
    "    json_path = './request2/' + 'result'#+ f'NIA_SL_{number}_{who}_F.mp4'\n",
    "\n",
    "    os.makedirs(json_path, exist_ok=True)\n",
    "\n",
    "    cnt = 0\n",
    "    for file in tacotron_txt:\n",
    "        pose = file[:30]\n",
    "        face = file[30:170]\n",
    "        left_hand = file[170:212]\n",
    "        right_hand = file[212:-1]\n",
    "\n",
    "        for _ in range(4):\n",
    "            pose.insert(20, 0)\n",
    "\n",
    "        for _ in range(4):\n",
    "            pose.insert(26, 0)\n",
    "\n",
    "        for _ in range(12):\n",
    "            pose.insert(39, 0)\n",
    "\n",
    "        raw_pose = []\n",
    "        for i in range(0, len(pose), 2):\n",
    "            raw_pose.append(pose[i]*2048)\n",
    "            raw_pose.append(pose[i+1]*1152)\n",
    "            if pose[i] == 0 or pose[i+1] == 0:\n",
    "                raw_pose.append(0)\n",
    "            else:\n",
    "                raw_pose.append(0.7)\n",
    "\n",
    "        raw_face = []\n",
    "        for i in range(0, len(face), 2):\n",
    "            raw_face.append(face[i]*2048)\n",
    "            raw_face.append(face[i+1]*1152)\n",
    "            if face[i] == 0 or face[i+1] == 0:\n",
    "                raw_face.append(0)\n",
    "            else:\n",
    "                raw_face.append(0.7)\n",
    "\n",
    "        raw_left_hand = []\n",
    "        for i in range(0, len(left_hand), 2):\n",
    "            raw_left_hand.append(left_hand[i]*2048)\n",
    "            raw_left_hand.append(left_hand[i+1]*1152)\n",
    "            if left_hand[i] == 0 or left_hand[i+1] == 0:\n",
    "                raw_left_hand.append(0)\n",
    "            else:\n",
    "                raw_left_hand.append(0.7)\n",
    "\n",
    "        raw_right_hand = []\n",
    "        for i in range(0, len(right_hand), 2):\n",
    "            raw_right_hand.append(right_hand[i]*2048)\n",
    "            raw_right_hand.append(right_hand[i+1]*1152)\n",
    "            if right_hand[i] == 0 or right_hand[i+1] == 0:\n",
    "                raw_right_hand.append(0)\n",
    "            else:\n",
    "                raw_right_hand.append(0.7)\n",
    "\n",
    "\n",
    "\n",
    "        json_data = OrderedDict()\n",
    "\n",
    "        json_data['version'] = 1.3\n",
    "        json_data['people'] = [{\n",
    "            \"person_id\":[-1],\n",
    "            \"pose_keypoints_2d\":raw_pose,\n",
    "            \"face_keypoints_2d\":raw_face,\n",
    "            \"hand_left_keypoints_2d\":raw_left_hand,\n",
    "            \"hand_right_keypoints_2d\":raw_right_hand,\n",
    "            \"pose_keypoints_3d\":[],\n",
    "            \"face_keypoints_3d\":[],\n",
    "            \"hand_left_keypoints_3d\":[],\n",
    "            \"hand_right_keypoints_3d\":[]\n",
    "        }]\n",
    "\n",
    "        with open(json_path + f'/NIA_SL_{cnt:012d}_keypoints.json', 'w') as makefile: #f'/NIA_SL_{number}_{who}_F_{cnt:012d}_keypoints.json', 'w') as makefile:\n",
    "            json.dump(json_data, makefile, ensure_ascii=False, indent='\\t')\n",
    "\n",
    "        cnt += 1\n"
   ]
  },
  {
   "cell_type": "code",
   "execution_count": null,
   "metadata": {},
   "outputs": [],
   "source": []
  }
 ],
 "metadata": {
  "kernelspec": {
   "display_name": "tobigs2020_2_seminar_pose2pose",
   "language": "python",
   "name": "tobigs2020_2_seminar_pose2pose"
  },
  "language_info": {
   "codemirror_mode": {
    "name": "ipython",
    "version": 3
   },
   "file_extension": ".py",
   "mimetype": "text/x-python",
   "name": "python",
   "nbconvert_exporter": "python",
   "pygments_lexer": "ipython3",
   "version": "3.8.5"
  }
 },
 "nbformat": 4,
 "nbformat_minor": 4
}
