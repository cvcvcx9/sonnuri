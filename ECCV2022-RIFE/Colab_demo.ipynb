{
  "cells": [
    {
      "cell_type": "markdown",
      "metadata": {
        "colab_type": "text",
        "id": "view-in-github"
      },
      "source": [
        "<a href=\"https://colab.research.google.com/github/hzwer/arXiv2020-RIFE/blob/main/Colab_demo.ipynb\" target=\"_parent\"><img src=\"https://colab.research.google.com/assets/colab-badge.svg\" alt=\"Open In Colab\"/></a>"
      ]
    },
    {
      "cell_type": "code",
      "execution_count": null,
      "metadata": {
        "id": "FypCcZkNNt2p"
      },
      "outputs": [],
      "source": [
        "!git clone https://github.com/hzwer/arXiv2020-RIFE"
      ]
    },
    {
      "cell_type": "code",
      "execution_count": 1,
      "metadata": {
        "id": "1wysVHxoN54f"
      },
      "outputs": [
        {
          "name": "stdout",
          "output_type": "stream",
          "text": [
            "[WinError 3] 지정된 경로를 찾을 수 없습니다: '/content/arXiv2020-RIFE/train_log'\n",
            "c:\\Users\\SSAFY\\Desktop\\A301\\ECCV2022-RIFE\n"
          ]
        },
        {
          "name": "stderr",
          "output_type": "stream",
          "text": [
            "���� ������ �ùٸ��� �ʽ��ϴ�.\n",
            "C:\\Users\\SSAFY\\AppData\\Roaming\\Python\\Python312\\site-packages\\IPython\\core\\magics\\osm.py:393: UserWarning: This is now an optional IPython functionality, using bookmarks requires you to install the `pickleshare` library.\n",
            "  bkms = self.shell.db.get('bookmarks', {})\n",
            "'gdown'��(��) ���� �Ǵ� �ܺ� ����, ������ �� �ִ� ���α׷�, �Ǵ�\n",
            "��ġ ������ �ƴմϴ�.\n",
            "'7z'��(��) ���� �Ǵ� �ܺ� ����, ������ �� �ִ� ���α׷�, �Ǵ�\n",
            "��ġ ������ �ƴմϴ�.\n"
          ]
        }
      ],
      "source": [
        "!mkdir /content/arXiv2020-RIFE/train_log\n",
        "%cd /content/arXiv2020-RIFE/train_log\n",
        "!gdown --id 1APIzVeI-4ZZCEuIRE1m6WYfSCaOsi_7_\n",
        "!7z e RIFE_trained_model_v3.6.zip"
      ]
    },
    {
      "cell_type": "code",
      "execution_count": null,
      "metadata": {
        "id": "AhbHfRBJRAUt"
      },
      "outputs": [],
      "source": [
        "%cd /content/arXiv2020-RIFE/\n",
        "!gdown --id 1i3xlKb7ax7Y70khcTcuePi6E7crO_dFc\n",
        "!pip install scikit-video"
      ]
    },
    {
      "cell_type": "markdown",
      "metadata": {
        "id": "rirngW5uRMdg"
      },
      "source": [
        "Please upload your video to content/arXiv2020-RIFE/video.mp4, or use our demo video."
      ]
    },
    {
      "cell_type": "code",
      "execution_count": null,
      "metadata": {
        "id": "dnLn4aHHPzN3"
      },
      "outputs": [],
      "source": [
        "!nvidia-smi\n",
        "!python3 inference_video.py --exp=2 --video=demo.mp4 --montage"
      ]
    },
    {
      "cell_type": "markdown",
      "metadata": {
        "id": "77KK6lxHgJhf"
      },
      "source": [
        "Our demo.mp4 is 25FPS. You can adjust the parameters for your own perference.\n",
        "For example: \n",
        "--fps=60 --exp=1 --video=mydemo.avi --png"
      ]
    },
    {
      "cell_type": "code",
      "execution_count": null,
      "metadata": {
        "cellView": "code",
        "id": "0zIBbVE3UfUD"
      },
      "outputs": [],
      "source": [
        "from IPython.display import display, Image\n",
        "import moviepy.editor as mpy\n",
        "display(mpy.ipython_display('demo_4X_100fps.mp4', height=256, max_duration=100.))"
      ]
    },
    {
      "cell_type": "code",
      "execution_count": 2,
      "metadata": {
        "id": "tWkJCNgP3zXA"
      },
      "outputs": [
        {
          "ename": "SyntaxError",
          "evalue": "invalid decimal literal (3826553360.py, line 2)",
          "output_type": "error",
          "traceback": [
            "\u001b[1;36m  Cell \u001b[1;32mIn[2], line 2\u001b[1;36m\u001b[0m\n\u001b[1;33m    ffmpeg -r 10 -f image2 -i output/img%d.png -s 448x256 -vf \"split[s0][s1];[s0]palettegen=stats_mode=single[p];[s1][p]paletteuse=new=1\" output/slomo.gif\u001b[0m\n\u001b[1;37m                                                    ^\u001b[0m\n\u001b[1;31mSyntaxError\u001b[0m\u001b[1;31m:\u001b[0m invalid decimal literal\n"
          ]
        }
      ],
      "source": [
        "!python3 inference_img.py --img demo/I0_0.png demo/I0_1.png\n",
        "ffmpeg -r 10 -f image2 -i output/img%d.png -s 448x256 -vf \"split[s0][s1];[s0]palettegen=stats_mode=single[p];[s1][p]paletteuse=new=1\" output/slomo.gif\n",
        "# Image interpolation"
      ]
    }
  ],
  "metadata": {
    "accelerator": "GPU",
    "colab": {
      "include_colab_link": true,
      "name": "Untitled0.ipynb",
      "provenance": []
    },
    "kernelspec": {
      "display_name": "Python 3",
      "name": "python3"
    },
    "language_info": {
      "codemirror_mode": {
        "name": "ipython",
        "version": 3
      },
      "file_extension": ".py",
      "mimetype": "text/x-python",
      "name": "python",
      "nbconvert_exporter": "python",
      "pygments_lexer": "ipython3",
      "version": "3.12.4"
    }
  },
  "nbformat": 4,
  "nbformat_minor": 0
}
