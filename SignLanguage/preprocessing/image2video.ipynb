{
 "cells": [
  {
   "cell_type": "code",
   "execution_count": 42,
   "metadata": {},
   "outputs": [],
   "source": [
    "# Creating Video from Images using OpenCV-PythonPython\n",
    "import cv2\n",
    "import numpy as np\n",
    "import glob"
   ]
  },
  {
   "cell_type": "code",
   "execution_count": 44,
   "metadata": {},
   "outputs": [],
   "source": [
    "# 이미지가 들어있는 디렉토리 \n",
    "image_dir = '/workspace/Image-team1/my_data/save_test/result/MY_model_Dance_global/test_latest/images/'\n",
    "test_label ='/workspace/Image-team1/my_data/save_test/test_label/'\n",
    "origin_dir = '/workspace/Image-team1/my_data/save_test/resize_test_img/'\n",
    "test_label ='/workspace/Image-team1/my_data/save_final/test_label/'\n",
    "final_dir = '/workspace/Image-team1/my_data/final308/result/MY_model_Dance_face/test_latest/images/'"
   ]
  },
  {
   "cell_type": "code",
   "execution_count": 45,
   "metadata": {},
   "outputs": [
    {
     "data": {
      "text/plain": [
       "['/workspace/Image-team1/my_data/final308/result/MY_model_Dance_face/test_latest/images/frame065_synthesized_image.png',\n",
       " '/workspace/Image-team1/my_data/final308/result/MY_model_Dance_face/test_latest/images/frame080_synthesized_image.png',\n",
       " '/workspace/Image-team1/my_data/final308/result/MY_model_Dance_face/test_latest/images/frame095_synthesized_image.png',\n",
       " '/workspace/Image-team1/my_data/final308/result/MY_model_Dance_face/test_latest/images/frame029_synthesized_image.png',\n",
       " '/workspace/Image-team1/my_data/final308/result/MY_model_Dance_face/test_latest/images/frame078_synthesized_image.png',\n",
       " '/workspace/Image-team1/my_data/final308/result/MY_model_Dance_face/test_latest/images/frame094_synthesized_image.png',\n",
       " '/workspace/Image-team1/my_data/final308/result/MY_model_Dance_face/test_latest/images/frame087_synthesized_image.png',\n",
       " '/workspace/Image-team1/my_data/final308/result/MY_model_Dance_face/test_latest/images/frame059_synthesized_image.png',\n",
       " '/workspace/Image-team1/my_data/final308/result/MY_model_Dance_face/test_latest/images/frame055_synthesized_image.png',\n",
       " '/workspace/Image-team1/my_data/final308/result/MY_model_Dance_face/test_latest/images/frame067_synthesized_image.png']"
      ]
     },
     "execution_count": 45,
     "metadata": {},
     "output_type": "execute_result"
    }
   ],
   "source": [
    "glob.glob(final_dir+'*.png')[:10]"
   ]
  },
  {
   "cell_type": "code",
   "execution_count": 46,
   "metadata": {},
   "outputs": [],
   "source": [
    "img_array = []\n",
    "for filename in sorted(glob.glob(final_dir+'*.png')):  # 여기 dir 바꿔주기\n",
    "    img = cv2.imread(filename)\n",
    "    height, width, layers = img.shape\n",
    "    size = (width,height)\n",
    "    img_array.append(img)"
   ]
  },
  {
   "cell_type": "markdown",
   "metadata": {},
   "source": [
    "### 동영상으로 만들기\n",
    "1. 동영상 이름.avi\n",
    "2. cv2.VideoWriter_fourcc(*'DIVX') // 인코딩 방식 \n",
    "3. 20 -> 40 이렇게 숫자를 높일수록 빨리감기 됨!\n",
    "4. size 는 이미지 size\n",
    " "
   ]
  },
  {
   "cell_type": "code",
   "execution_count": 47,
   "metadata": {},
   "outputs": [],
   "source": [
    "out = cv2.VideoWriter('308_test.avi',cv2.VideoWriter_fourcc(*'DIVX'), 20, size)  \n",
    " \n",
    "for i in range(len(img_array)):\n",
    "    out.write(img_array[i])\n",
    "out.release()\n"
   ]
  }
 ],
 "metadata": {
  "kernelspec": {
   "display_name": "Python 3",
   "language": "python",
   "name": "python3"
  },
  "language_info": {
   "codemirror_mode": {
    "name": "ipython",
    "version": 3
   },
   "file_extension": ".py",
   "mimetype": "text/x-python",
   "name": "python",
   "nbconvert_exporter": "python",
   "pygments_lexer": "ipython3",
   "version": "3.6.9"
  }
 },
 "nbformat": 4,
 "nbformat_minor": 2
}
