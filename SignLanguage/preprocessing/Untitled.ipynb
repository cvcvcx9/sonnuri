{
 "cells": [
  {
   "cell_type": "code",
   "execution_count": 55,
   "metadata": {},
   "outputs": [],
   "source": [
    "import json\n",
    "import numpy as np\n",
    "pose_keypoints_2d = []\n",
    "face_keypoints_2d = []\n",
    "hand_left_keypoints_2d = []\n",
    "hand_right_keypoints_2d = []\n",
    "\n",
    "file_name = \"../data/CROWD_REAL004/CROWD_REAL010/키포인트Json/NIA_SL_FS0429_CROWD13_F.mp4/[SHANA]NIA_SL_FS0429_CROWD13_F__000000000027_keypoints.json\"\n",
    "with open(file_name) as json_file:\n",
    "    json_data = json.load(json_file)\n",
    "    pose_keypoints_2d = json_data['people'][0]['pose_keypoints_2d']\n",
    "    face_keypoints_2d = json_data['people'][0]['face_keypoints_2d']\n",
    "    hand_left_keypoints_2d = json_data['people'][0]['hand_left_keypoints_2d']\n",
    "    hand_right_keypoints_2d = json_data['people'][0]['hand_right_keypoints_2d']\n",
    "    \n",
    "#     print(a)\n",
    "#     clip_name = json_data[\"metaData\"]['name']"
   ]
  },
  {
   "cell_type": "code",
   "execution_count": 56,
   "metadata": {},
   "outputs": [],
   "source": [
    "a = [pose_keypoints_2d, face_keypoints_2d, hand_left_keypoints_2d, hand_right_keypoints_2d]"
   ]
  },
  {
   "cell_type": "markdown",
   "metadata": {},
   "source": [
    "//     {0,  \"Nose\"},//     {1,  \"Neck\"},//     {2,  \"RShoulder\"},//     {3,  \"RElbow\"},//     {4,  \"RWrist\"},//     {5,  \"LShoulder\"},//     {6,  \"LElbow\"},//     {7,  \"LWrist\"},//     {8,  \"MidHip\"},//     {9,  \"RHip\"},//     {10, \"RKnee\"},//     {11, \"RAnkle\"},//     {12, \"LHip\"},//     {13, \"LKnee\"},//     {14, \"LAnkle\"},//     {15, \"REye\"},//     {16, \"LEye\"},//     {17, \"REar\"},//     {18, \"LEar\"},//     {19, \"LBigToe\"},//     {20, \"LSmallToe\"},//     {21, \"LHeel\"},//     {22, \"RBigToe\"},//     {23, \"RSmallToe\"},//     {24, \"RHeel\"},//     {25, \"Background\"}"
   ]
  },
  {
   "cell_type": "code",
   "execution_count": 37,
   "metadata": {},
   "outputs": [],
   "source": [
    "for i in range(len(a)):\n",
    "    if (i+1) % 3 !=0:\n",
    "        b.append(a[i])"
   ]
  },
  {
   "cell_type": "code",
   "execution_count": 52,
   "metadata": {},
   "outputs": [
    {
     "data": {
      "text/plain": [
       "63"
      ]
     },
     "execution_count": 52,
     "metadata": {},
     "output_type": "execute_result"
    }
   ],
   "source": [
    "len(a[3])"
   ]
  },
  {
   "cell_type": "code",
   "execution_count": 29,
   "metadata": {},
   "outputs": [],
   "source": [
    "import matplotlib.pyplot as plt"
   ]
  },
  {
   "cell_type": "code",
   "execution_count": 54,
   "metadata": {},
   "outputs": [
    {
     "data": {
      "image/png": "[encoded data removed]",
      "text/plain": [
       "<Figure size 432x288 with 1 Axes>"
      ]
     },
     "metadata": {
      "needs_background": "light"
     },
     "output_type": "display_data"
    }
   ],
   "source": [
    "for i in range(len(a)):\n",
    "    for j in range(len(a[i])):\n",
    "        if j == 0:\n",
    "            continue\n",
    "        if j % 3 == 0:\n",
    "            plt.scatter(a[i][j-1], a[i][j-2], c = 'black')"
   ]
  },
  {
   "cell_type": "code",
   "execution_count": 57,
   "metadata": {},
   "outputs": [
    {
     "data": {
      "image/png": "[encoded data removed]",
      "text/plain": [
       "<Figure size 432x288 with 1 Axes>"
      ]
     },
     "metadata": {
      "needs_background": "light"
     },
     "output_type": "display_data"
    }
   ],
   "source": [
    "for i in range(len(a)):\n",
    "    for j in range(len(a[i])):\n",
    "        if j == 0:\n",
    "            continue\n",
    "        if j % 3 == 0:\n",
    "            plt.scatter(a[i][j-1], a[i][j-2], c = 'black')"
   ]
  },
  {
   "cell_type": "code",
   "execution_count": null,
   "metadata": {},
   "outputs": [],
   "source": []
  }
 ],
 "metadata": {
  "kernelspec": {
   "display_name": "Python 3",
   "language": "python",
   "name": "python3"
  },
  "language_info": {
   "codemirror_mode": {
    "name": "ipython",
    "version": 3
   },
   "file_extension": ".py",
   "mimetype": "text/x-python",
   "name": "python",
   "nbconvert_exporter": "python",
   "pygments_lexer": "ipython3",
   "version": "3.7.6"
  }
 },
 "nbformat": 4,
 "nbformat_minor": 4
}
